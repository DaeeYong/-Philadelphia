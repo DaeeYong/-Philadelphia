{
 "cells": [
  {
   "cell_type": "code",
   "execution_count": 10,
   "metadata": {},
   "outputs": [],
   "source": [
    "import os\n",
    "from dragon import dragonV\n",
    "import json\n",
    "import numpy as np\n",
    "import cv2"
   ]
  },
  {
   "cell_type": "code",
   "execution_count": 11,
   "metadata": {},
   "outputs": [],
   "source": [
    "name_list = ['gait1_rear.mp4', 'gait2_rear.mp4', 'walk_fast_front.mp4',\n",
    "            'walk_fast_rear.mp4', 'walk_preferred_front.mp4', 'walk_preferred_rear.mp4', 'walk_slow_rear.mp4',\n",
    "            'walk_stroop_front.mp4', 'walk_stroop_rear.mp4']"
   ]
  },
  {
   "cell_type": "markdown",
   "metadata": {},
   "source": [
    "# Normalize excel data"
   ]
  },
  {
   "cell_type": "code",
   "execution_count": 2,
   "metadata": {},
   "outputs": [],
   "source": [
    "from dragon import dragonV\n",
    "\n",
    "xlsx_path = '/Users/ivory/Documents/github/Philadelphia/real_final_data/pp01/fast_front.xlsx'\n",
    "frame_data_list = dragonV.xlsx2data(xlsx_path)"
   ]
  },
  {
   "cell_type": "code",
   "execution_count": 5,
   "metadata": {},
   "outputs": [],
   "source": [
    "norm_list =  dragonV.nomalize_data(frame_data_list)"
   ]
  },
  {
   "cell_type": "code",
   "execution_count": 6,
   "metadata": {},
   "outputs": [
    {
     "data": {
      "text/plain": [
       "[0.98665869255187,\n",
       " 0.7778928941445465,\n",
       " 0.9793432631463848,\n",
       " 0.00021275690396294067,\n",
       " 0.974977402735604,\n",
       " 0.0643166217348945,\n",
       " 0.9937936645056316,\n",
       " 0.8640866729517951,\n",
       " 0.9959021232557977,\n",
       " 0.9769138645785352,\n",
       " 0.9836804714282934,\n",
       " 0.0012296472184551988,\n",
       " 0.9909309019657804,\n",
       " 0.8701026964281757,\n",
       " 0.9899490096097279,\n",
       " 0.9744900923935154,\n",
       " 0.9926284830417624,\n",
       " 0.9865782760198836,\n",
       " 0.9930921950984422,\n",
       " 0.986531559293768,\n",
       " 0.978973128370833,\n",
       " 0.9917338937972444,\n",
       " 0.9996411045366775,\n",
       " 1.0000000000000002,\n",
       " 0.9836388082938226,\n",
       " 0.9739875863055847,\n",
       " 0.9916374596143527,\n",
       " 0.9995366226107103,\n",
       " 0.0,\n",
       " 9.30327754467899e-05,\n",
       " 0.00020458432556731232,\n",
       " 0.0005990271798599075,\n",
       " 0.9976387249114521,\n",
       " 0.754663082835726,\n",
       " 0.00028661918342194647,\n",
       " 0.0009927509326895013,\n",
       " 1.0,\n",
       " 0.0,\n",
       " 0.00047835064696925004,\n",
       " 0.0006512112529304505,\n",
       " 0.0006217552149718656,\n",
       " 0.0008372638218302587,\n",
       " 7.719086986391249e-05,\n",
       " 0.00010233510093962228,\n",
       " 8.544330836489987e-05,\n",
       " 0.000120940357797397,\n",
       " 0.0001001022472954518,\n",
       " 0.0001395465666893042,\n",
       " 0.9998693806465657,\n",
       " 1.0]"
      ]
     },
     "execution_count": 6,
     "metadata": {},
     "output_type": "execute_result"
    }
   ],
   "source": [
    "norm_list[0]"
   ]
  },
  {
   "cell_type": "code",
   "execution_count": null,
   "metadata": {},
   "outputs": [],
   "source": []
  }
 ],
 "metadata": {
  "kernelspec": {
   "display_name": "Python 3",
   "language": "python",
   "name": "python3"
  },
  "language_info": {
   "codemirror_mode": {
    "name": "ipython",
    "version": 3
   },
   "file_extension": ".py",
   "mimetype": "text/x-python",
   "name": "python",
   "nbconvert_exporter": "python",
   "pygments_lexer": "ipython3",
   "version": "3.11.7"
  }
 },
 "nbformat": 4,
 "nbformat_minor": 2
}
