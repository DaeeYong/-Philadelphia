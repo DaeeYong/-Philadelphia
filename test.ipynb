{
 "cells": [
  {
   "cell_type": "code",
   "execution_count": 2,
   "metadata": {},
   "outputs": [],
   "source": [
    "import os\n",
    "from dragon import dragonV\n",
    "import json\n",
    "import numpy as np\n",
    "import cv2"
   ]
  },
  {
   "cell_type": "code",
   "execution_count": 11,
   "metadata": {},
   "outputs": [],
   "source": [
    "name_list = ['gait1_rear.mp4', 'gait2_rear.mp4', 'walk_fast_front.mp4',\n",
    "            'walk_fast_rear.mp4', 'walk_preferred_front.mp4', 'walk_preferred_rear.mp4', 'walk_slow_rear.mp4',\n",
    "            'walk_stroop_front.mp4', 'walk_stroop_rear.mp4']"
   ]
  },
  {
   "cell_type": "markdown",
   "metadata": {},
   "source": [
    "# Normalize excel data"
   ]
  },
  {
   "cell_type": "code",
   "execution_count": 3,
   "metadata": {},
   "outputs": [],
   "source": [
    "from dragon import dragonV\n",
    "\n",
    "xlsx_path = '/Users/ivory/Documents/github/Philadelphia/real_final_data/pp01/fast_front.xlsx'\n",
    "frame_data_list = dragonV.xlsx2data(xlsx_path)"
   ]
  },
  {
   "cell_type": "code",
   "execution_count": 4,
   "metadata": {},
   "outputs": [],
   "source": [
    "norm_list =  dragonV.nomalize_data(frame_data_list)"
   ]
  },
  {
   "cell_type": "code",
   "execution_count": 6,
   "metadata": {},
   "outputs": [],
   "source": [
    "seleted_openpose_joint_idx_list = [8, 9, 10, 11, 12, 13, 14, 19, 20, 21, 22, 23, 24]"
   ]
  },
  {
   "cell_type": "code",
   "execution_count": 8,
   "metadata": {},
   "outputs": [
    {
     "name": "stdout",
     "output_type": "stream",
     "text": [
      "[]\n"
     ]
    },
    {
     "ename": "TypeError",
     "evalue": "list indices must be integers or slices, not list",
     "output_type": "error",
     "traceback": [
      "\u001b[0;31m---------------------------------------------------------------------------\u001b[0m",
      "\u001b[0;31mTypeError\u001b[0m                                 Traceback (most recent call last)",
      "Cell \u001b[0;32mIn[8], line 8\u001b[0m\n\u001b[1;32m      6\u001b[0m \u001b[38;5;28;01mfor\u001b[39;00m joint_idx \u001b[38;5;129;01min\u001b[39;00m selected_joint_frame_data_list:\n\u001b[1;32m      7\u001b[0m     \u001b[38;5;28mprint\u001b[39m(joint_idx)\n\u001b[0;32m----> 8\u001b[0m     x \u001b[38;5;241m=\u001b[39m \u001b[43mnorm_list\u001b[49m\u001b[43m[\u001b[49m\u001b[43midx\u001b[49m\u001b[43m]\u001b[49m\u001b[43m[\u001b[49m\u001b[43mjoint_idx\u001b[49m\u001b[43m \u001b[49m\u001b[38;5;241;43m*\u001b[39;49m\u001b[43m \u001b[49m\u001b[38;5;241;43m2\u001b[39;49m\u001b[43m]\u001b[49m\n\u001b[1;32m      9\u001b[0m     y \u001b[38;5;241m=\u001b[39m norm_list[idx][joint_idx \u001b[38;5;241m*\u001b[39m \u001b[38;5;241m2\u001b[39m \u001b[38;5;241m+\u001b[39m \u001b[38;5;241m1\u001b[39m]\n\u001b[1;32m     10\u001b[0m     each_frame\u001b[38;5;241m.\u001b[39mappend(x)\n",
      "\u001b[0;31mTypeError\u001b[0m: list indices must be integers or slices, not list"
     ]
    }
   ],
   "source": [
    "\n",
    "selected_joint_frame_data_list = []\n",
    "\n",
    "frame_len = len(norm_list)\n",
    "for idx in range(0, frame_len):\n",
    "    each_frame = []\n",
    "    for joint_idx in selected_joint_frame_data_list:\n",
    "        print(joint_idx)\n",
    "        x = norm_list[idx][joint_idx * 2]\n",
    "        y = norm_list[idx][joint_idx * 2 + 1]\n",
    "        each_frame.append(x)\n",
    "        each_frame.append(y)\n",
    "\n",
    "    selected_joint_frame_data_list.append(each_frame)"
   ]
  },
  {
   "cell_type": "code",
   "execution_count": 1,
   "metadata": {},
   "outputs": [],
   "source": [
    "from dragon import dragonV\n",
    "import numpy as np\n",
    "import os\n",
    "test_xlsx_path = '/Users/ivory/Documents/github/Philadelphia/real_final_data/pp01/fast_front.xlsx'\n",
    "test_gt_path = '/Users/ivory/Documents/github/Philadelphia/real_final_data/pp01/gt/fast.npy'\n",
    "seleted_openpose_joint_idx_list = [8, 9, 10, 11, 12, 13, 14, 19, 20, 21, 22, 23, 24]"
   ]
  },
  {
   "cell_type": "code",
   "execution_count": 2,
   "metadata": {},
   "outputs": [],
   "source": [
    "frame_data_list = dragonV.xlsx2data(test_xlsx_path)\n",
    "selected_frame_data_list = dragonV.get_selected_joint_pos_frame_list(frame_data_list, seleted_openpose_joint_idx_list)"
   ]
  },
  {
   "cell_type": "code",
   "execution_count": 3,
   "metadata": {},
   "outputs": [],
   "source": [
    "gt_np = np.load(test_gt_path)\n",
    "gt_list = gt_np.tolist()"
   ]
  },
  {
   "cell_type": "code",
   "execution_count": 4,
   "metadata": {},
   "outputs": [
    {
     "name": "stdout",
     "output_type": "stream",
     "text": [
      "171\n",
      "164\n"
     ]
    }
   ],
   "source": [
    "print(len(selected_frame_data_list))\n",
    "print(len(gt_list))"
   ]
  },
  {
   "cell_type": "code",
   "execution_count": 5,
   "metadata": {},
   "outputs": [],
   "source": [
    "paired = dragonV.make_dataAndGtPair(selected_frame_data_list, gt_list)"
   ]
  },
  {
   "cell_type": "code",
   "execution_count": 8,
   "metadata": {},
   "outputs": [
    {
     "data": {
      "text/plain": [
       "163"
      ]
     },
     "execution_count": 8,
     "metadata": {},
     "output_type": "execute_result"
    }
   ],
   "source": [
    "len(paired)"
   ]
  },
  {
   "cell_type": "code",
   "execution_count": 1,
   "metadata": {},
   "outputs": [],
   "source": [
    "import torch\n",
    "import torch.nn as nn\n",
    "import torch.optim as optim\n",
    "import numpy as np\n",
    "import csv\n",
    "from dragon import dragonV\n",
    "import os"
   ]
  },
  {
   "cell_type": "code",
   "execution_count": 2,
   "metadata": {},
   "outputs": [],
   "source": [
    "root_path = '/Users/ivory/Documents/github/Philadelphia/real_final_data/'\n",
    "subject_list = ['pp01', 'pp02', 'pp009', 'pp085', 'pp086', 'pp087', 'pp088', 'pp089'] \n",
    "#front, rear 2가지 존재. 파일명 format : {gait_catergory}_{front || rear}.xlsx\n",
    "gait_category_list = ['gait1', 'gait2', 'fast', 'preferred', 'reaction', 'slow', 'stroop', 'turn']\n",
    "seleted_openpose_joint_idx_list = [8, 9, 10, 11, 12, 13, 14, 19, 20, 21, 22, 23, 24]"
   ]
  },
  {
   "cell_type": "code",
   "execution_count": 9,
   "metadata": {},
   "outputs": [
    {
     "name": "stdout",
     "output_type": "stream",
     "text": [
      "pp01 : turn_rear.xlsx\n",
      "pp01 : turn_front.xlsx\n",
      "pp01 : stroop_front.xlsx\n",
      "pp01 : fast_front.xlsx\n",
      "pp01 : preferred_front.xlsx\n",
      "pp01 : reaction_front.xlsx\n",
      "pp01 : slow_front.xlsx\n",
      "pp01 : slow_rear.xlsx\n",
      "pp02 : turn_rear.xlsx\n",
      "pp02 : stroop_rear.xlsx\n",
      "pp02 : turn_front.xlsx\n",
      "pp02 : stroop_front.xlsx\n",
      "pp02 : fast_front.xlsx\n",
      "pp02 : preferred_front.xlsx\n",
      "pp02 : fast_rear.xlsx\n",
      "pp02 : slow_front.xlsx\n",
      "pp02 : preferred_rear.xlsx\n",
      "pp02 : slow_rear.xlsx\n",
      "pp009 : turn_rear.xlsx\n",
      "pp009 : stroop_rear.xlsx\n",
      "pp009 : turn_front.xlsx\n",
      "pp009 : stroop_front.xlsx\n",
      "pp009 : fast_front.xlsx\n",
      "pp009 : preferred_front.xlsx\n",
      "pp009 : fast_rear.xlsx\n",
      "pp009 : preferred_rear.xlsx\n",
      "pp085 : turn_rear.xlsx\n",
      "pp085 : stroop_rear.xlsx\n",
      "pp085 : turn_front.xlsx\n",
      "pp085 : stroop_front.xlsx\n",
      "pp085 : preferred_front.xlsx\n",
      "pp085 : fast_rear.xlsx\n",
      "pp085 : slow_front.xlsx\n",
      "pp086 : turn_rear.xlsx\n",
      "pp086 : stroop_rear.xlsx\n",
      "pp086 : stroop_front.xlsx\n",
      "pp086 : gait2_rear.xlsx\n",
      "pp086 : fast_front.xlsx\n",
      "pp086 : preferred_front.xlsx\n",
      "pp086 : fast_rear.xlsx\n",
      "pp086 : preferred_rear.xlsx\n",
      "pp086 : gait1_rear.xlsx\n",
      "pp086 : slow_rear.xlsx\n",
      "pp087 : turn_rear.xlsx\n",
      "pp087 : stroop_rear.xlsx\n",
      "pp087 : gait1_front.xlsx\n",
      "pp087 : stroop_front.xlsx\n",
      "pp087 : gait2_rear.xlsx\n",
      "pp087 : fast_front.xlsx\n",
      "pp087 : preferred_front.xlsx\n",
      "pp087 : slow_front.xlsx\n",
      "pp087 : gait2_front.xlsx\n",
      "pp087 : gait1_rear.xlsx\n",
      "pp087 : slow_rear.xlsx\n",
      "pp088 : turn_rear.xlsx\n",
      "pp088 : stroop_rear.xlsx\n",
      "pp088 : gait1_front.xlsx\n",
      "pp088 : gait2_rear.xlsx\n",
      "pp088 : fast_front.xlsx\n",
      "pp088 : preferred_front.xlsx\n",
      "pp088 : fast_rear.xlsx\n",
      "pp088 : slow_front.xlsx\n",
      "pp088 : preferred_rear.xlsx\n",
      "pp088 : gait1_rear.xlsx\n",
      "pp089 : turn_rear.xlsx\n",
      "pp089 : gait1_front.xlsx\n",
      "pp089 : gait2_rear.xlsx\n",
      "pp089 : preferred_front.xlsx\n",
      "pp089 : fast_rear.xlsx\n",
      "pp089 : slow_front.xlsx\n",
      "pp089 : preferred_rear.xlsx\n",
      "pp089 : gait1_rear.xlsx\n",
      "pp089 : slow_rear.xlsx\n"
     ]
    }
   ],
   "source": [
    "all_subject_data = []\n",
    "for each_subject in subject_list:\n",
    "    #root/ppxx/\n",
    "    each_subject_path = root_path + each_subject + '/'\n",
    "    files = os.listdir(each_subject_path)\n",
    "\n",
    "    ###xlsx_list###\n",
    "    excel_name_list = [file for file in files if file.endswith('.xlsx')]\n",
    "    \n",
    "    ###gt_list####\n",
    "    tmp = os.listdir(each_subject_path + 'gt/')\n",
    "    gt_name_list = [file for file in tmp if file.endswith('.npy')]\n",
    "\n",
    "    #ppxx/{each_excel_name}\n",
    "    #하나의 엑셀 파일에 대한 반복문\n",
    "    for each_excel in excel_name_list:\n",
    "        print(f'{each_subject} : {each_excel}')\n",
    "        ##xlsx -> list##\n",
    "        \n",
    "        try:\n",
    "            frame_data_list = dragonV.xlsx2data(each_subject_path + each_excel)\n",
    "        except Exception as e:\n",
    "            print(f'{each_excel} : {len(frame_data_list[0])}')\n",
    "            print(e)\n",
    "        "
   ]
  }
 ],
 "metadata": {
  "kernelspec": {
   "display_name": "Python 3",
   "language": "python",
   "name": "python3"
  },
  "language_info": {
   "codemirror_mode": {
    "name": "ipython",
    "version": 3
   },
   "file_extension": ".py",
   "mimetype": "text/x-python",
   "name": "python",
   "nbconvert_exporter": "python",
   "pygments_lexer": "ipython3",
   "version": "3.11.7"
  }
 },
 "nbformat": 4,
 "nbformat_minor": 2
}
