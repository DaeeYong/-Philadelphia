{
 "cells": [
  {
   "cell_type": "code",
   "execution_count": 10,
   "metadata": {},
   "outputs": [],
   "source": [
    "import os\n",
    "from dragon import dragonV\n",
    "import json\n",
    "import numpy as np\n",
    "import cv2"
   ]
  },
  {
   "cell_type": "code",
   "execution_count": 11,
   "metadata": {},
   "outputs": [],
   "source": [
    "name_list = ['gait1_rear.mp4', 'gait2_rear.mp4', 'walk_fast_front.mp4',\n",
    "            'walk_fast_rear.mp4', 'walk_preferred_front.mp4', 'walk_preferred_rear.mp4', 'walk_slow_rear.mp4',\n",
    "            'walk_stroop_front.mp4', 'walk_stroop_rear.mp4']"
   ]
  },
  {
   "cell_type": "markdown",
   "metadata": {},
   "source": [
    "# Normalize excel data"
   ]
  },
  {
   "cell_type": "code",
   "execution_count": 12,
   "metadata": {},
   "outputs": [
    {
     "name": "stdout",
     "output_type": "stream",
     "text": [
      "[save done] path : /Users/ivory/Documents/github/Philadelphia/jointAndGt/pp086/pp086_omc_gait1_rear.mp4/norm.xlsx\n",
      "\n",
      "[save done] path : /Users/ivory/Documents/github/Philadelphia/jointAndGt/pp086/pp086_omc_gait2_rear.mp4/norm.xlsx\n",
      "\n",
      "[save done] path : /Users/ivory/Documents/github/Philadelphia/jointAndGt/pp086/pp086_omc_walk_fast_front.mp4/norm.xlsx\n",
      "\n",
      "[save done] path : /Users/ivory/Documents/github/Philadelphia/jointAndGt/pp086/pp086_omc_walk_fast_rear.mp4/norm.xlsx\n",
      "\n",
      "[save done] path : /Users/ivory/Documents/github/Philadelphia/jointAndGt/pp086/pp086_omc_walk_preferred_front.mp4/norm.xlsx\n",
      "\n",
      "[save done] path : /Users/ivory/Documents/github/Philadelphia/jointAndGt/pp086/pp086_omc_walk_preferred_rear.mp4/norm.xlsx\n",
      "\n",
      "[save done] path : /Users/ivory/Documents/github/Philadelphia/jointAndGt/pp086/pp086_omc_walk_slow_rear.mp4/norm.xlsx\n",
      "\n",
      "[save done] path : /Users/ivory/Documents/github/Philadelphia/jointAndGt/pp086/pp086_omc_walk_stroop_front.mp4/norm.xlsx\n",
      "\n",
      "[save done] path : /Users/ivory/Documents/github/Philadelphia/jointAndGt/pp086/pp086_omc_walk_stroop_rear.mp4/norm.xlsx\n",
      "\n"
     ]
    }
   ],
   "source": [
    "for name in name_list:        \n",
    "    excel_path = '/Users/ivory/Documents/github/Philadelphia/jointAndGt/pp086/pp086_omc_' + name + '/nogada.xlsx'\n",
    "    save_path = '/Users/ivory/Documents/github/Philadelphia/jointAndGt/pp086/pp086_omc_' + name + '/norm.xlsx'\n",
    "    frame_data = dragonV.xlsx2data(excel_path)\n",
    "    norm = dragonV.nomalize_data(frame_data)\n",
    "    dragonV.framelist2excel(norm, save_path)"
   ]
  }
 ],
 "metadata": {
  "kernelspec": {
   "display_name": "Python 3",
   "language": "python",
   "name": "python3"
  },
  "language_info": {
   "codemirror_mode": {
    "name": "ipython",
    "version": 3
   },
   "file_extension": ".py",
   "mimetype": "text/x-python",
   "name": "python",
   "nbconvert_exporter": "python",
   "pygments_lexer": "ipython3",
   "version": "3.11.7"
  }
 },
 "nbformat": 4,
 "nbformat_minor": 2
}
