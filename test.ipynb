{
 "cells": [
  {
   "cell_type": "code",
   "execution_count": 73,
   "metadata": {},
   "outputs": [],
   "source": [
    "import os\n",
    "from dragon import dragonV\n",
    "import json\n",
    "import numpy as np\n",
    "import cv2"
   ]
  },
  {
   "cell_type": "code",
   "execution_count": 74,
   "metadata": {},
   "outputs": [
    {
     "name": "stdout",
     "output_type": "stream",
     "text": [
      "pp086_omc_gait1_front.mp4 -> len : 321\n",
      "pp086_omc_gait1_rear.mp4 -> len : 321\n",
      "pp086_omc_gait2_front.mp4 -> len : 289\n",
      "pp086_omc_gait2_rear.mp4 -> len : 289\n",
      "pp086_omc_walk_fast_front.mp4 -> len : 277\n",
      "pp086_omc_walk_fast_rear.mp4 -> len : 277\n",
      "pp086_omc_walk_preferred_front.mp4 -> len : 448\n",
      "pp086_omc_walk_preferred_rear.mp4 -> len : 448\n",
      "pp086_omc_walk_slow_front.mp4 -> len : 809\n",
      "pp086_omc_walk_slow_rear.mp4 -> len : 809\n",
      "pp086_omc_walk_stroop_front.mp4 -> len : 1805\n",
      "pp086_omc_walk_stroop_rear.mp4 -> len : 1805\n",
      "pp086_omc_walk_turn_front.mp4 -> len : 1440\n",
      "pp086_omc_walk_turn_rear.mp4 -> len : 1440\n"
     ]
    }
   ],
   "source": [
    "pp086_video_path = 'C:/Users/admin/Desktop/project/video/pp086/'\n",
    "\n",
    "video_list = os.listdir(pp086_video_path)\n",
    "\n",
    "for each_video in video_list:\n",
    "    video_len = dragonV.get_total_frame(pp086_video_path + each_video)\n",
    "    print(f'{each_video} -> len : {video_len}')"
   ]
  }
 ],
 "metadata": {
  "kernelspec": {
   "display_name": "Python 3",
   "language": "python",
   "name": "python3"
  },
  "language_info": {
   "codemirror_mode": {
    "name": "ipython",
    "version": 3
   },
   "file_extension": ".py",
   "mimetype": "text/x-python",
   "name": "python",
   "nbconvert_exporter": "python",
   "pygments_lexer": "ipython3",
   "version": "3.11.7"
  }
 },
 "nbformat": 4,
 "nbformat_minor": 2
}
