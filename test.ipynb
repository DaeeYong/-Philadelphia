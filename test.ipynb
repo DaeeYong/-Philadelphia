{
 "cells": [
  {
   "cell_type": "code",
   "execution_count": 41,
   "metadata": {},
   "outputs": [],
   "source": [
    "import os\n",
    "from dragon import dragonV\n",
    "import json\n",
    "import numpy as np"
   ]
  },
  {
   "cell_type": "code",
   "execution_count": 66,
   "metadata": {},
   "outputs": [],
   "source": [
    "excel_root = 'C:/Users/admin/Desktop/Philadelphia/excel/pp087/pp087_omc_gait2_front.mp4/'\n",
    "excel_idx0 = excel_root + 'idx0.xlsx'\n",
    "excel_idx1 = excel_root + 'idx1.xlsx'\n",
    "\n",
    "video_path = 'C:/Users/admin/Desktop/project/video/pp087/pp087_omc_gait2_front.mp4'\n",
    "\n",
    "frame_data_list = dragonV.xlsx2data(excel_idx0)"
   ]
  },
  {
   "cell_type": "code",
   "execution_count": 67,
   "metadata": {},
   "outputs": [
    {
     "data": {
      "text/plain": [
       "268"
      ]
     },
     "execution_count": 67,
     "metadata": {},
     "output_type": "execute_result"
    }
   ],
   "source": [
    "dragonV.get_total_frame(video_path)"
   ]
  },
  {
   "cell_type": "code",
   "execution_count": 68,
   "metadata": {},
   "outputs": [
    {
     "data": {
      "text/plain": [
       "243"
      ]
     },
     "execution_count": 68,
     "metadata": {},
     "output_type": "execute_result"
    }
   ],
   "source": [
    "len(frame_data_list)"
   ]
  },
  {
   "cell_type": "code",
   "execution_count": 69,
   "metadata": {},
   "outputs": [],
   "source": [
    "gt = np.load('C:/Users/admin/Desktop/Philadelphia/gt/pp01/contact_omc_walk_fast_30fps.npy')"
   ]
  },
  {
   "cell_type": "code",
   "execution_count": 71,
   "metadata": {},
   "outputs": [
    {
     "data": {
      "text/plain": [
       "164"
      ]
     },
     "execution_count": 71,
     "metadata": {},
     "output_type": "execute_result"
    }
   ],
   "source": [
    "len(gt)"
   ]
  },
  {
   "cell_type": "code",
   "execution_count": null,
   "metadata": {},
   "outputs": [],
   "source": [
    "path1 = 'c:/Users/admin/Desktop/project/json/pp01/walk_fast_front.mp4/'\n",
    "path2 = 'c:/Users/admin/Desktop/project/json/pp01/walk_fast_rear.mp4/'\n",
    "\n",
    "xlsx_path1 = 'c:/Users/admin/Desktop/Philadelphia/excel/pp01/walk_fast_front.mp4/'\n",
    "xlsx_path2 = 'c:/Users/admin/Desktop/Philadelphia/excel/pp01/walk_fast_rear.mp4/'\n",
    "\n",
    "dragonV.jsons2excel(path1, [], 0, 'idx0' + '.xlsx', xlsx_path1)\n",
    "dragonV.jsons2excel(path1, [], 1, 'idx1' + '.xlsx', xlsx_path1)\n",
    "\n",
    "dragonV.jsons2excel(path2, [], 0, 'idx0' + '.xlsx', xlsx_path2)\n",
    "dragonV.jsons2excel(path2, [], 1, 'idx1' + '.xlsx', xlsx_path2)"
   ]
  }
 ],
 "metadata": {
  "kernelspec": {
   "display_name": "Python 3",
   "language": "python",
   "name": "python3"
  },
  "language_info": {
   "codemirror_mode": {
    "name": "ipython",
    "version": 3
   },
   "file_extension": ".py",
   "mimetype": "text/x-python",
   "name": "python",
   "nbconvert_exporter": "python",
   "pygments_lexer": "ipython3",
   "version": "3.11.7"
  }
 },
 "nbformat": 4,
 "nbformat_minor": 2
}
