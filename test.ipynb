{
 "cells": [
  {
   "cell_type": "code",
   "execution_count": 24,
   "metadata": {},
   "outputs": [],
   "source": [
    "import os\n",
    "from dragon import dragonV\n",
    "import json\n",
    "import numpy as np\n",
    "import cv2"
   ]
  },
  {
   "cell_type": "code",
   "execution_count": 74,
   "metadata": {},
   "outputs": [
    {
     "name": "stdout",
     "output_type": "stream",
     "text": [
      "pp086_omc_gait1_front.mp4 -> len : 321\n",
      "pp086_omc_gait1_rear.mp4 -> len : 321\n",
      "pp086_omc_gait2_front.mp4 -> len : 289\n",
      "pp086_omc_gait2_rear.mp4 -> len : 289\n",
      "pp086_omc_walk_fast_front.mp4 -> len : 277\n",
      "pp086_omc_walk_fast_rear.mp4 -> len : 277\n",
      "pp086_omc_walk_preferred_front.mp4 -> len : 448\n",
      "pp086_omc_walk_preferred_rear.mp4 -> len : 448\n",
      "pp086_omc_walk_slow_front.mp4 -> len : 809\n",
      "pp086_omc_walk_slow_rear.mp4 -> len : 809\n",
      "pp086_omc_walk_stroop_front.mp4 -> len : 1805\n",
      "pp086_omc_walk_stroop_rear.mp4 -> len : 1805\n",
      "pp086_omc_walk_turn_front.mp4 -> len : 1440\n",
      "pp086_omc_walk_turn_rear.mp4 -> len : 1440\n"
     ]
    }
   ],
   "source": [
    "pp086_video_path = 'C:/Users/admin/Desktop/project/video/pp086/'\n",
    "\n",
    "video_list = os.listdir(pp086_video_path)\n",
    "\n",
    "for each_video in video_list:\n",
    "    video_len = dragonV.get_total_frame(pp086_video_path + each_video)\n",
    "    print(f'{each_video} -> len : {video_len}')"
   ]
  },
  {
   "cell_type": "code",
   "execution_count": 3,
   "metadata": {},
   "outputs": [],
   "source": [
    "excel_path = '/Users/ivory/Documents/github/Philadelphia/jointAndGt/pp086/pp086_omc_gait1_front.mp4/nogada.xlsx'\n",
    "gt_path = '/Users/ivory/Documents/github/Philadelphia/jointAndGt/pp086/pp086_omc_gait1_front.mp4/contact_omc_gait1_30fps.npy'\n",
    "\n",
    "all_frame_data = dragonV.xlsx2data(excel_path)\n",
    "frame_len = len(all_frame_data)\n",
    "gt = np.load(gt_path)"
   ]
  },
  {
   "cell_type": "code",
   "execution_count": 11,
   "metadata": {},
   "outputs": [],
   "source": [
    "gt_list = gt.tolist()"
   ]
  },
  {
   "cell_type": "code",
   "execution_count": 13,
   "metadata": {},
   "outputs": [],
   "source": [
    "features_gt_pair = []\n",
    "tmp = []"
   ]
  },
  {
   "cell_type": "code",
   "execution_count": 14,
   "metadata": {},
   "outputs": [],
   "source": [
    "for idx in range(0, frame_len):\n",
    "    tmp = []\n",
    "    tmp.append(all_frame_data[idx])\n",
    "    tmp.append(gt_list[idx])\n",
    "    features_gt_pair.append(tmp)"
   ]
  },
  {
   "cell_type": "code",
   "execution_count": 22,
   "metadata": {},
   "outputs": [
    {
     "data": {
      "text/plain": [
       "296"
      ]
     },
     "execution_count": 22,
     "metadata": {},
     "output_type": "execute_result"
    }
   ],
   "source": [
    "len(features_gt_pair)"
   ]
  },
  {
   "cell_type": "code",
   "execution_count": 23,
   "metadata": {},
   "outputs": [
    {
     "data": {
      "text/plain": [
       "296"
      ]
     },
     "execution_count": 23,
     "metadata": {},
     "output_type": "execute_result"
    }
   ],
   "source": [
    "len(all_frame_data)"
   ]
  },
  {
   "cell_type": "code",
   "execution_count": null,
   "metadata": {},
   "outputs": [],
   "source": [
    "'''\n",
    "데이터 반환 형식\n",
    "[\n",
    "    [ [ each_frame_data ],[ label ] ],\n",
    "    [ [ each_frame_data ],[ label ] ],\n",
    "    [ [ each_frame_data ],[ label ] ],\n",
    "                ...\n",
    "    [ [ each_frame_data ],[ label ] ],\n",
    "    [ [ each_frame_data ],[ label ] ]\n",
    "]\n",
    "'''\n",
    "def get_dataAndGtPair(all_frame_data : list, label : list, startidx = 0):\n",
    "    frame_len = len(all_frame_data)\n",
    "    \n",
    "    data_gt_pair_list = []\n",
    "    for idx in range(0, frame_len):\n",
    "        tmp = []\n",
    "        tmp.append(all_frame_data[idx])\n",
    "        tmp.append(label[idx])\n",
    "        data_gt_pair_list.append(tmp)\n",
    "    \n",
    "    return data_gt_pair_list\n"
   ]
  },
  {
   "cell_type": "code",
   "execution_count": 18,
   "metadata": {},
   "outputs": [],
   "source": [
    "from dragon import dragonV\n",
    "import numpy as np\n",
    "\n",
    "excel_path = '/Users/ivory/Documents/github/Philadelphia/jointAndGt/pp086/pp086_omc_gait1_front.mp4/nogada.xlsx'\n",
    "gt_path = '/Users/ivory/Documents/github/Philadelphia/jointAndGt/pp086/pp086_omc_gait1_front.mp4/contact_omc_gait1_30fps.npy'\n",
    "'''\n",
    "gt = [ ltoe, lheel, rtoe, rheel ]\n",
    "'''\n",
    "all_frame_data = dragonV.xlsx2data(excel_path)\n",
    "frame_len = len(all_frame_data)\n",
    "\n",
    "gt_np = np.load(gt_path)\n",
    "gt_list = gt_np.tolist()\n",
    "\n",
    "data_pair_list = dragonV.make_dataAndGtPair(all_frame_data, gt_list)"
   ]
  },
  {
   "cell_type": "code",
   "execution_count": 19,
   "metadata": {},
   "outputs": [
    {
     "data": {
      "text/plain": [
       "296"
      ]
     },
     "execution_count": 19,
     "metadata": {},
     "output_type": "execute_result"
    }
   ],
   "source": [
    "len(data_pair_list)"
   ]
  },
  {
   "cell_type": "code",
   "execution_count": 31,
   "metadata": {},
   "outputs": [],
   "source": [
    "import cv2\n",
    "\n",
    "video_path = '/Users/ivory/Documents/lab/verybigdata/pp086/30/pp086_omc_gait2_front.mp4'\n"
   ]
  },
  {
   "cell_type": "code",
   "execution_count": 32,
   "metadata": {},
   "outputs": [],
   "source": [
    "cap = cv2.VideoCapture(video_path)"
   ]
  },
  {
   "cell_type": "code",
   "execution_count": 33,
   "metadata": {},
   "outputs": [
    {
     "name": "stdout",
     "output_type": "stream",
     "text": [
      "1\n",
      "2\n",
      "3\n",
      "4\n",
      "5\n",
      "6\n",
      "7\n",
      "8\n",
      "9\n",
      "10\n"
     ]
    }
   ],
   "source": [
    "cnt = 0\n",
    "while cap.isOpened():\n",
    "    if cnt == 10: break\n",
    "    ret, frame = cap.read()\n",
    "    a = int(cap.get(cv2.CAP_PROP_POS_FRAMES))\n",
    "    print(a)\n",
    "    cnt += 1"
   ]
  },
  {
   "cell_type": "code",
   "execution_count": null,
   "metadata": {},
   "outputs": [],
   "source": []
  }
 ],
 "metadata": {
  "kernelspec": {
   "display_name": "Python 3",
   "language": "python",
   "name": "python3"
  },
  "language_info": {
   "codemirror_mode": {
    "name": "ipython",
    "version": 3
   },
   "file_extension": ".py",
   "mimetype": "text/x-python",
   "name": "python",
   "nbconvert_exporter": "python",
   "pygments_lexer": "ipython3",
   "version": "3.11.7"
  }
 },
 "nbformat": 4,
 "nbformat_minor": 2
}
